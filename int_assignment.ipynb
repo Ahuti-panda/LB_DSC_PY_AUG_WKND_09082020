{
  "nbformat": 4,
  "nbformat_minor": 0,
  "metadata": {
    "colab": {
      "name": "int_assignment.ipynb",
      "provenance": [],
      "include_colab_link": true
    },
    "kernelspec": {
      "name": "python3",
      "display_name": "Python 3"
    }
  },
  "cells": [
    {
      "cell_type": "markdown",
      "metadata": {
        "id": "view-in-github",
        "colab_type": "text"
      },
      "source": [
        "<a href=\"https://colab.research.google.com/github/Snehabl18/LB_DSC_PY_AUG_WKND_09082020/blob/master/int_assignment.ipynb\" target=\"_parent\"><img src=\"https://colab.research.google.com/assets/colab-badge.svg\" alt=\"Open In Colab\"/></a>"
      ]
    },
    {
      "cell_type": "code",
      "metadata": {
        "id": "8A5Jw5NR1iEI",
        "colab_type": "code",
        "colab": {
          "base_uri": "https://localhost:8080/",
          "height": 54
        },
        "outputId": "7cd90466-7f14-49b7-c355-747863d1f2d2"
      },
      "source": [
        "#Declare an int value and store it in a variable. \n",
        "a=10\n",
        "\n",
        "\n",
        "#Check the type and print the id of the same.\n",
        "print(type(a))\n",
        "print(id(a))\n",
        "\n",
        "\n"
      ],
      "execution_count": 11,
      "outputs": [
        {
          "output_type": "stream",
          "text": [
            "<class 'int'>\n",
            "10914784\n"
          ],
          "name": "stdout"
        }
      ]
    },
    {
      "cell_type": "code",
      "metadata": {
        "id": "0YU8LFTn1rAX",
        "colab_type": "code",
        "colab": {
          "base_uri": "https://localhost:8080/",
          "height": 91
        },
        "outputId": "f9a82d73-a06a-426a-a169-12db363ab0ce"
      },
      "source": [
        "#Take one int value between 0 - 256.\n",
        "#Assign it to two different variables.\n",
        "#Check the id of both the variables. It should come same. Check why?\n",
        "\n",
        "a=20\n",
        "b=20\n",
        "print(id(a))\n",
        "print(id(b))\n",
        "\n",
        "\n",
        "\n",
        "#Take one int value either less than -5 or greater than 256.\n",
        "#Assign it to two different variables.\n",
        "#Check the id of both the variables. It should come different.Check why?\n",
        "a=260\n",
        "b=260\n",
        "print(id(a))\n",
        "print(id(b))\n",
        "\n"
      ],
      "execution_count": 13,
      "outputs": [
        {
          "output_type": "stream",
          "text": [
            "10915104\n",
            "10915104\n",
            "139769194194928\n",
            "139769194194992\n"
          ],
          "name": "stdout"
        }
      ]
    },
    {
      "cell_type": "code",
      "metadata": {
        "id": "YzEIG0ZZ1tSK",
        "colab_type": "code",
        "colab": {
          "base_uri": "https://localhost:8080/",
          "height": 146
        },
        "outputId": "b50ad539-2bab-49cf-9aec-4b7ed393ea90"
      },
      "source": [
        "#Arithmatic Operations on integers\n",
        "#Take two different intger values.\n",
        "a=20\n",
        "b=5\n",
        "c=a+b\n",
        "d=a-b\n",
        "e=a*b\n",
        "f=a/b\n",
        "q=a//b\n",
        "h=pow(a,b)\n",
        "print(c)\n",
        "print(d)\n",
        "print(e)\n",
        "print(f)\n",
        "print(a%b)\n",
        "print(q)\n",
        "print(h)\n",
        "#Store them in two different variables.\n",
        "#Do below operations on them:-\n",
        "    #Find sum of both numbers\n",
        "    #Find differce between them\n",
        "    #Find the product of both numbers.\n",
        "    #Find value after dividing first num with second number\n",
        "    #Find the remainder after dividing first number with second number\n",
        "    #Find the quotient after dividing first number with second number\n",
        "    #Find the result of first num to the power of second number."
      ],
      "execution_count": 21,
      "outputs": [
        {
          "output_type": "stream",
          "text": [
            "25\n",
            "15\n",
            "100\n",
            "4.0\n",
            "0\n",
            "4\n",
            "3200000\n"
          ],
          "name": "stdout"
        }
      ]
    },
    {
      "cell_type": "code",
      "metadata": {
        "id": "GGM7CdzA1wGn",
        "colab_type": "code",
        "colab": {
          "base_uri": "https://localhost:8080/",
          "height": 91
        },
        "outputId": "24ea583f-47b8-4aee-98a5-71458637ee24"
      },
      "source": [
        "#Comparison Operators on integers\n",
        "#Take two different intger values.\n",
        "#Store them in two different variables.\n",
        "a=2\n",
        "b=3\n",
        "#Do below operations on them:-\n",
        "    #Compare se two numbers with below operator:-\n",
        "        #Greater than, '>'\n",
        "        #Smaller than, '<'\n",
        "        #Greater than or equal to, '>='\n",
        "        #Less than or equal to, '<='\n",
        "#Observe their output(return type should be boolean)\n",
        "print(bool(a>b))\n",
        "print(bool(a<b))\n",
        "print(bool(a>=b))\n",
        "print(bool(a<=b))"
      ],
      "execution_count": 23,
      "outputs": [
        {
          "output_type": "stream",
          "text": [
            "False\n",
            "True\n",
            "False\n",
            "True\n"
          ],
          "name": "stdout"
        }
      ]
    },
    {
      "cell_type": "code",
      "metadata": {
        "id": "9x904sUE1y9t",
        "colab_type": "code",
        "colab": {
          "base_uri": "https://localhost:8080/",
          "height": 54
        },
        "outputId": "8d397d83-931a-4b64-8204-c06edce2c67b"
      },
      "source": [
        "#Equality Operator\n",
        "#Take two different intger values.\n",
        "#Store them in two different variables.\n",
        "a=6\n",
        "b=8\n",
        "#Equuate them using equality operator (==, !=)\n",
        "#Observe the output(return type should be boolean)\n",
        "print(bool(a==b))\n",
        "print(bool(a!=b))"
      ],
      "execution_count": 24,
      "outputs": [
        {
          "output_type": "stream",
          "text": [
            "False\n",
            "True\n"
          ],
          "name": "stdout"
        }
      ]
    },
    {
      "cell_type": "code",
      "metadata": {
        "id": "JmQFHUwc11S-",
        "colab_type": "code",
        "colab": {
          "base_uri": "https://localhost:8080/",
          "height": 202
        },
        "outputId": "bad685fa-31f7-491f-aa14-4764362197e6"
      },
      "source": [
        "#Logical operators\n",
        "#Observe the output of below code\n",
        "#Cross check the output manually\n",
        "\n",
        "  \n",
        "print(10 and 20)    #----------------------------------------->Output is 20\n",
        "print(0 and 20)        #----------------------------------------->Output is 0\n",
        "print(20 and 0)        #----------------------------------------->Output is 0\n",
        "print(0 and 0)         #----------------------------------------->Output is 0\n",
        "\n",
        "print(10 or 20)        #----------------------------------------->Output is 10\n",
        "print(0 or 20)         #----------------------------------------->Output is 20\n",
        "print(20 or 0)         #----------------------------------------->Output is 20\n",
        "print(0 or 0)          #----------------------------------------->Output is 0\n",
        "\n",
        "print(not 10)          #----------------------------------------->Output is False\n",
        "print(not 0)           #----------------------------------------->Output is True"
      ],
      "execution_count": 26,
      "outputs": [
        {
          "output_type": "stream",
          "text": [
            "20\n",
            "0\n",
            "0\n",
            "0\n",
            "10\n",
            "20\n",
            "20\n",
            "0\n",
            "False\n",
            "True\n"
          ],
          "name": "stdout"
        }
      ]
    },
    {
      "cell_type": "code",
      "metadata": {
        "id": "-0tvoulX14Hi",
        "colab_type": "code",
        "colab": {
          "base_uri": "https://localhost:8080/",
          "height": 128
        },
        "outputId": "cab47844-f4b6-42eb-e0ef-9fb56e57fd08"
      },
      "source": [
        "#Bitwise Operators\n",
        "print(10|20)\n",
        "print(10^20)\n",
        "print(10&20)\n",
        "print(~10)\n",
        "print(10<<2)\n",
        "print(10>>2)\n",
        "#Do below operations on the values provided below:-\n",
        "    #Bitwise and(&) -----------------------------------------> 10, 20   -------> Output is 0\n",
        "    #Bitwise or(|)  -----------------------------------------> 10, 20   -------> Output is 30\n",
        "    #Bitwise(^)     -----------------------------------------> 10, 20   -------> Output is 30\n",
        "    #Bitwise negation(~) ------------------------------------> 10       -------> Output is -11\n",
        "    #Bitwise left shift  ------------------------------------> 10,2     -------> Output is 40\n",
        "    #Bitwise right shift ------------------------------------> 10,2     -------> Output is 2\n",
        "#Cross check the output manually"
      ],
      "execution_count": 47,
      "outputs": [
        {
          "output_type": "stream",
          "text": [
            "30\n",
            "30\n",
            "0\n",
            "-11\n",
            "40\n",
            "2\n"
          ],
          "name": "stdout"
        }
      ]
    },
    {
      "cell_type": "code",
      "metadata": {
        "id": "YCcx-Qx016hg",
        "colab_type": "code",
        "colab": {
          "base_uri": "https://localhost:8080/",
          "height": 91
        },
        "outputId": "c4ec34c0-d03e-44eb-bfd5-bad7c467b0fd"
      },
      "source": [
        "#What is the output of expression inside print statement. Cross check before running the program.\n",
        "a = 10\n",
        "b = 10\n",
        "print(a is b)          #True or False?\n",
        "print(a is not b)      #True or False?\n",
        "\n",
        "a = 1000\n",
        "b = 1000\n",
        "print(a is b)          #True or False?\n",
        "print(a is not b)      #True or False?"
      ],
      "execution_count": 46,
      "outputs": [
        {
          "output_type": "stream",
          "text": [
            "True\n",
            "False\n",
            "False\n",
            "True\n"
          ],
          "name": "stdout"
        }
      ]
    },
    {
      "cell_type": "code",
      "metadata": {
        "id": "Un2To3XN1_Il",
        "colab_type": "code",
        "colab": {
          "base_uri": "https://localhost:8080/",
          "height": 35
        },
        "outputId": "dec72b8c-4b61-4670-90f7-c3eae8236754"
      },
      "source": [
        "#What is the output of expression inside print statement. Cross check before running the program.\n",
        "print(10+(10*32)//2**5&20+(~(-10))<<2)"
      ],
      "execution_count": 48,
      "outputs": [
        {
          "output_type": "stream",
          "text": [
            "20\n"
          ],
          "name": "stdout"
        }
      ]
    },
    {
      "cell_type": "code",
      "metadata": {
        "id": "kGRb5RMd1_1I",
        "colab_type": "code",
        "colab": {
          "base_uri": "https://localhost:8080/",
          "height": 128
        },
        "outputId": "57cec610-64f6-454e-8f90-b7ca8f6017a6"
      },
      "source": [
        "#Membership operation\n",
        "#in, not in are two membership operators and it returns boolean value\n",
        "\n",
        "print('2' in 'Python2.7.8')\n",
        "print(10 in [10,10.20,10+20j,'Python'])\n",
        "print(10 in (10,10.20,10+20j,'Python'))\n",
        "print(2 in {1,2,3})\n",
        "print(3 in {1:100, 2:200, 3:300})\n",
        "print(10 in range(20))"
      ],
      "execution_count": 49,
      "outputs": [
        {
          "output_type": "stream",
          "text": [
            "True\n",
            "True\n",
            "True\n",
            "True\n",
            "True\n",
            "True\n"
          ],
          "name": "stdout"
        }
      ]
    },
    {
      "cell_type": "code",
      "metadata": {
        "id": "Es7iSvL92B9W",
        "colab_type": "code",
        "colab": {
          "base_uri": "https://localhost:8080/",
          "height": 72
        },
        "outputId": "f376a8ff-9d95-4d96-c03a-6f82f6efce3e"
      },
      "source": [
        "#An integer can be represented in binary, octal or hexadecimal form.\n",
        "#Declare one binary, one octal and one hexadecimal value and store them in three different variables.\n",
        "a=0b10\n",
        "b=0o20\n",
        "c=0xfade\n",
        "#Convert 9876 to its binary, octal and hexadecimal equivalent and print their corresponding value.\n",
        "print(bin(9876))\n",
        "print(oct(9876))\n",
        "print(hex(9876))"
      ],
      "execution_count": 52,
      "outputs": [
        {
          "output_type": "stream",
          "text": [
            "0b10011010010100\n",
            "0o23224\n",
            "0x2694\n"
          ],
          "name": "stdout"
        }
      ]
    },
    {
      "cell_type": "code",
      "metadata": {
        "id": "Hm0r03lH2E0i",
        "colab_type": "code",
        "colab": {
          "base_uri": "https://localhost:8080/",
          "height": 239
        },
        "outputId": "b2509aed-263c-4188-efbc-ec86b1243e00"
      },
      "source": [
        "#What will be the outut of following:-\n",
        "a = 0b1010000\n",
        "print(a)\n",
        "\n",
        "b = 0o7436\n",
        "print(b)\n",
        "\n",
        "c = 0xfade\n",
        "print(c)\n",
        "\n",
        "print(bin(80))\n",
        "\n",
        "print(oct(3870))\n",
        "\n",
        "print(hex(64222))\n",
        "\n",
        "print(bin(0b1010000))\n",
        "\n",
        "print(bin(0xfade))\n",
        "\n",
        "print(oct(0xfade))\n",
        "\n",
        "print(oct(0o7436))\n",
        "\n",
        "print(hex(0b1010000))\n",
        "\n",
        "print(hex(0xfade))"
      ],
      "execution_count": 50,
      "outputs": [
        {
          "output_type": "stream",
          "text": [
            "80\n",
            "3870\n",
            "64222\n",
            "0b1010000\n",
            "0o7436\n",
            "0xfade\n",
            "0b1010000\n",
            "0b1111101011011110\n",
            "0o175336\n",
            "0o7436\n",
            "0x50\n",
            "0xfade\n"
          ],
          "name": "stdout"
        }
      ]
    }
  ]
}